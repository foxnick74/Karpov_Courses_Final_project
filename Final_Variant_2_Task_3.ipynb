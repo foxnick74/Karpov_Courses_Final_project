{
 "cells": [
  {
   "cell_type": "markdown",
   "metadata": {},
   "source": [
    "# Задание 3. Python\n",
    "<br>\n",
    "\n",
    "## 3.1 Задача\n",
    "\n",
    "1. Реализуйте функцию, которая будет автоматически подгружать информацию из дополнительного файла groups_add.csv (заголовки могут отличаться) и на основании дополнительных параметров пересчитывать метрики.<br>\n",
    "2. Реализуйте функцию, которая будет строить графики по получаемым метрикам."
   ]
  },
  {
   "cell_type": "code",
   "execution_count": 1,
   "metadata": {},
   "outputs": [],
   "source": [
    "# Импорт библиотек\n",
    "import pandas as pd\n",
    "import numpy as np\n",
    "import seaborn as sns\n",
    "import matplotlib.pyplot as plt\n",
    "%matplotlib inline"
   ]
  },
  {
   "cell_type": "markdown",
   "metadata": {},
   "source": [
    "### 1. Реализуйте функцию, которая будет автоматически подгружать информацию из дополнительного файла groups_add.csv (заголовки могут отличаться) и на основании дополнительных параметров пересчитывать метрики."
   ]
  },
  {
   "cell_type": "code",
   "execution_count": 2,
   "metadata": {},
   "outputs": [],
   "source": [
    "url_groups_add = 'https://disk.yandex.ru/d/5Kxrz02m3IBUwQ'"
   ]
  },
  {
   "cell_type": "code",
   "execution_count": 3,
   "metadata": {},
   "outputs": [],
   "source": [
    "# функция для подгрузки информации и пересчет метрик\n",
    "def calc_metric(url_groups_add):\n",
    "    # согласно заданию у нас в качестве входной переменной выступает расположение groups_add.csv. \n",
    "    # все остальные файлы - константы\n",
    "    groups = pd.read_csv('https://getfile.dokpub.com/yandex/get/https://disk.yandex.ru/d/UhyYx41rTt3clQ', sep=';')\n",
    "    groups_add = pd.read_csv(f'https://getfile.dokpub.com/yandex/get/{url_groups_add}')\n",
    "    active_studs = pd.read_csv('https://getfile.dokpub.com/yandex/get/https://disk.yandex.ru/d/Tbs44Bm6H_FwFQ')\n",
    "    checks = pd.read_csv('https://getfile.dokpub.com/yandex/get/https://disk.yandex.ru/d/pH1q-VqcxXjsVA', sep=';')\n",
    "\n",
    "    # Создадим groups_all, где конкатинируем датафреймы groups и groups_add. Сразу переменуем столбец\n",
    "    groups_all = pd.concat([groups, groups_add], ignore_index=True).rename(columns={'id': 'student_id'})\n",
    "\n",
    "    # Объединяем активных и оплату\n",
    "    active_checks = active_studs.merge(checks, how='outer', on='student_id')\n",
    "\n",
    "    # Создадим датафрейм, в который попадет информация о активных платящих пользователях с разбивкой по группам.\n",
    "    df = active_checks.merge(groups_all, how='left', on='student_id').fillna(0).rename(columns={'rev': 'Revenue'})\n",
    "\n",
    "    # Добавляем флаг оплаты\n",
    "    df['flag_pay'] = np.where(df['Revenue'] > 0, 1, 0)\n",
    "\n",
    "    # сгруппируем данные по группам. \n",
    "    df_gr = df.groupby('grp', as_index=False).agg(SumRevenue=('Revenue', 'sum'), CountPay=('flag_pay', 'sum'), \n",
    "                                                  CountActive=('student_id', 'count'))\n",
    "\n",
    "    # расчитаем метрики\n",
    "    df_gr['ARPPU'] = (df_gr['SumRevenue'] / df_gr['CountPay']).round(1)\n",
    "    df_gr['ARPAU'] = (df_gr['SumRevenue'] / df_gr['CountActive']).round(1)\n",
    "    df_gr['CR'] = (df_gr['CountPay'] / df_gr['CountActive']).round(3)\n",
    "\n",
    "    return df_gr[['grp', 'ARPPU', 'ARPAU', 'CR']]"
   ]
  },
  {
   "cell_type": "code",
   "execution_count": 4,
   "metadata": {},
   "outputs": [],
   "source": [
    "metric = calc_metric(url_groups_add)"
   ]
  },
  {
   "cell_type": "code",
   "execution_count": 5,
   "metadata": {},
   "outputs": [
    {
     "data": {
      "text/html": [
       "<div>\n",
       "<style scoped>\n",
       "    .dataframe tbody tr th:only-of-type {\n",
       "        vertical-align: middle;\n",
       "    }\n",
       "\n",
       "    .dataframe tbody tr th {\n",
       "        vertical-align: top;\n",
       "    }\n",
       "\n",
       "    .dataframe thead th {\n",
       "        text-align: right;\n",
       "    }\n",
       "</style>\n",
       "<table border=\"1\" class=\"dataframe\">\n",
       "  <thead>\n",
       "    <tr style=\"text-align: right;\">\n",
       "      <th></th>\n",
       "      <th>grp</th>\n",
       "      <th>ARPPU</th>\n",
       "      <th>ARPAU</th>\n",
       "      <th>CR</th>\n",
       "    </tr>\n",
       "  </thead>\n",
       "  <tbody>\n",
       "    <tr>\n",
       "      <th>0</th>\n",
       "      <td>A</td>\n",
       "      <td>860.7</td>\n",
       "      <td>58.8</td>\n",
       "      <td>0.068</td>\n",
       "    </tr>\n",
       "    <tr>\n",
       "      <th>1</th>\n",
       "      <td>B</td>\n",
       "      <td>1108.8</td>\n",
       "      <td>69.5</td>\n",
       "      <td>0.063</td>\n",
       "    </tr>\n",
       "  </tbody>\n",
       "</table>\n",
       "</div>"
      ],
      "text/plain": [
       "  grp   ARPPU  ARPAU     CR\n",
       "0   A   860.7   58.8  0.068\n",
       "1   B  1108.8   69.5  0.063"
      ]
     },
     "execution_count": 5,
     "metadata": {},
     "output_type": "execute_result"
    }
   ],
   "source": [
    "metric"
   ]
  },
  {
   "cell_type": "markdown",
   "metadata": {},
   "source": [
    "### 2. Реализуйте функцию, которая будет строить графики по получаемым метрикам"
   ]
  },
  {
   "cell_type": "code",
   "execution_count": 6,
   "metadata": {},
   "outputs": [],
   "source": [
    "def visual_metric(metric):\n",
    "    # определяем сетку и оси с помощью matplotlib.pyplot.subplots()\n",
    "    fig, ax = plt.subplots(1, 3, figsize=[12, 4])\n",
    "    # вывод гистограмм\n",
    "    sns.barplot(ax=ax[0], data=metric, x='grp', y='ARPPU').set(xlabel='Group', ylabel='', title='ARPPU')\n",
    "    sns.barplot(ax=ax[1], data=metric, x='grp', y='ARPAU').set(xlabel='Group', ylabel='', title='ARPAU')\n",
    "    sns.barplot(ax=ax[2], data=metric, x='grp', y='CR').set(xlabel='Group', ylabel='', title='CR')"
   ]
  },
  {
   "cell_type": "code",
   "execution_count": 7,
   "metadata": {},
   "outputs": [
    {
     "data": {
      "image/png": "[encoded data removed]",
      "text/plain": [
       "<Figure size 864x288 with 3 Axes>"
      ]
     },
     "metadata": {
      "needs_background": "light"
     },
     "output_type": "display_data"
    }
   ],
   "source": [
    "visual_metric(metric)"
   ]
  },
  {
   "cell_type": "code",
   "execution_count": null,
   "metadata": {},
   "outputs": [],
   "source": []
  }
 ],
 "metadata": {
  "kernelspec": {
   "display_name": "Python 3",
   "language": "python",
   "name": "python3"
  },
  "language_info": {
   "codemirror_mode": {
    "name": "ipython",
    "version": 3
   },
   "file_extension": ".py",
   "mimetype": "text/x-python",
   "name": "python",
   "nbconvert_exporter": "python",
   "pygments_lexer": "ipython3",
   "version": "3.7.3"
  }
 },
 "nbformat": 4,
 "nbformat_minor": 4
}
