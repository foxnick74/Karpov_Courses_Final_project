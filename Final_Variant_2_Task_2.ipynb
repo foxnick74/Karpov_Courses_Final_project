{
 "cells": [
  {
   "cell_type": "markdown",
   "metadata": {},
   "source": [
    "# Задание 2. SQL\n",
    "## 2.1 Очень усердные ученики.\n",
    "\n",
    "### 2.1.1 Условие\n",
    "\n",
    "Образовательные курсы состоят из различных уроков, каждый из которых состоит из нескольких маленьких заданий. Каждое такое маленькое задание называется \"горошиной\".\n",
    "\n",
    "Назовём очень усердным учеником того пользователя, который хотя бы раз за текущий месяц правильно решил 20 горошин.\n",
    "\n",
    "### 2.1.2 Задача\n",
    "\n",
    "Необходимо написать оптимальный запрос, который даст информацию о количестве очень усердных студентов.NB! Под усердным студентом мы понимаем студента, который правильно решил 20 задач за текущий месяц."
   ]
  },
  {
   "cell_type": "code",
   "execution_count": 1,
   "metadata": {},
   "outputs": [],
   "source": [
    "# Импорт библиотек\n",
    "import pandahouse as ph"
   ]
  },
  {
   "cell_type": "code",
   "execution_count": 2,
   "metadata": {},
   "outputs": [],
   "source": [
    "# создаем соединение с базой данных ClickHouse\n",
    "connection1 = {'host': 'https://clickhouse.lab.karpov.courses',\n",
    "                       'database': 'default',\n",
    "                       'user': 'student', \n",
    "                       'password': 'dpo_python_2020'\n",
    "               }"
   ]
  },
  {
   "cell_type": "markdown",
   "metadata": {},
   "source": [
    "### Порядок действий\n",
    "1. Вначале находим у каждой записи дату начала месяца и сразу через оконную функцию максимальную дату начала месяуа по все таблице<br>\n",
    "2. Суммируем количество правильных ответов через оконку по каждому студенту и рабтаем только по текущему месяцу (st_month = cr_month)<br>\n",
    "3. Подсчитываем уникальное количество студентов с горошинами более или равно 20."
   ]
  },
  {
   "cell_type": "code",
   "execution_count": 3,
   "metadata": {},
   "outputs": [],
   "source": [
    "# запрос SELECT\n",
    "query1 = \"\"\"\n",
    "    select\n",
    "      uniqExact(st_id) cnt_student\n",
    "    from\n",
    "      (\n",
    "        select\n",
    "          st_id,\n",
    "          SUM(correct) OVER (PARTITION BY st_id) sum_sorrect\n",
    "        from\n",
    "          (\n",
    "            select\n",
    "              st_id,\n",
    "              correct,\n",
    "              toStartOfMonth(timest) st_month,\n",
    "              MAX(toStartOfMonth(timest)) OVER() AS cr_month\n",
    "            from\n",
    "              default.peas\n",
    "          ) q1\n",
    "        where\n",
    "          st_month = cr_month\n",
    "      ) q2\n",
    "    where\n",
    "      sum_sorrect >= 20\n",
    "\"\"\""
   ]
  },
  {
   "cell_type": "code",
   "execution_count": 4,
   "metadata": {},
   "outputs": [
    {
     "name": "stdout",
     "output_type": "stream",
     "text": [
      "Количество усердных студентов: 136\n"
     ]
    }
   ],
   "source": [
    "# Выполним запрос SELECT с помощью функции read_clickhouse и сохраним результат в объект DataFrame\n",
    "df1 = ph.read_clickhouse(query1, connection=connection1)\n",
    "\n",
    "# выводим результат\n",
    "print(f\"Количество усердных студентов: {df1['cnt_student'][0]}\")"
   ]
  },
  {
   "cell_type": "markdown",
   "metadata": {},
   "source": [
    "## 2.2 Оптимизация воронки\n",
    "\n",
    "### 2.2.1 Условие\n",
    "\n",
    "Образовательная платформа предлагает пройти студентам курсы по модели trial: студент может решить бесплатно лишь 30 горошин в день. Для неограниченного количества заданий в определенной дисциплине студенту необходимо приобрести полный доступ. Команда провела эксперимент, где был протестирован новый экран оплаты.\n",
    "\n",
    "### 2.2.2 Задача\n",
    "\n",
    "Необходимо в одном запросе выгрузить следующую информацию о группах пользователей:\n",
    "\n",
    "ARPU<br> \n",
    "ARPAU<br>\n",
    "CR в покупку<br>\n",
    "СR активного пользователя в покупку<br>\n",
    "CR пользователя из активности по математике (subject = ’math’) в покупку курса по математике<br>\n",
    "\n",
    "ARPU считается относительно всех пользователей, попавших в группы.\n",
    "\n",
    "Активным считается пользователь, за все время решивший больше 10 задач правильно в любых дисциплинах.\n",
    "\n",
    "Активным по математике считается пользователь, за все время решивший 2 или больше задач правильно по математике."
   ]
  },
  {
   "cell_type": "markdown",
   "metadata": {},
   "source": [
    "### Порядок действий\n",
    "\n",
    "\n",
    "1. Создаем временную таблицу table_act (таблица активности).<cr>\n",
    "\n",
    "    1.1. Вначале группируем по уникальному студенту сумму горошин и сумму горошин по математике. суммируем через оконки<cr>\n",
    "\n",
    "    1.2. Далее определяем активность студента общую и по математике<cr>\n",
    "\n",
    "\n",
    "2. Создаем временную таблицу table_sum (таблица денег). <cr>\n",
    "\n",
    "    2.1. Вначале группируем по уникальному студенту сумму денег и сумму денег по математике. суммируем через оконки<cr>\n",
    "\n",
    "    2.2. На верхнем уровне дополнительно к полям st_id, money_all, money_math формируем \"флажки\" оплаты<cr>\n",
    "\n",
    "    \n",
    "3. Основной запрос.<cr>\n",
    "\n",
    "    3.1. Соединяем все три таблицы по st_id через LEFT JOIN.<cr>\n",
    "\n",
    "    3.2. Группируем по test_grp и расчитываем указанные метрики. Если необходимо просуммировать через условие использую sumIf()."
   ]
  },
  {
   "cell_type": "code",
   "execution_count": 5,
   "metadata": {},
   "outputs": [],
   "source": [
    "query2 = \"\"\"\n",
    "    WITH table_act AS (\n",
    "      SELECT\n",
    "        st_id,\n",
    "        IF(sum_st > 10, 1, 0) active_all,\n",
    "        IF(sum_st_math >= 2, 1, 0) active_math\n",
    "      FROM\n",
    "        (\n",
    "          SELECT\n",
    "            distinct st_id,\n",
    "            SUM(correct) over(partition by st_id) sum_st,\n",
    "            sumIf(correct, subject = 'Math') over(partition by st_id) sum_st_math\n",
    "          FROM\n",
    "            default.peas\n",
    "        )\n",
    "    ),\n",
    "    table_sum AS (\n",
    "      SELECT\n",
    "        st_id,\n",
    "        money_all,\n",
    "        money_math,\n",
    "        IF(money_all > 0, 1, 0) flag_all,\n",
    "        IF(money_math > 0, 1, 0) flag_math\n",
    "      FROM\n",
    "        (\n",
    "          SELECT\n",
    "            distinct st_id,\n",
    "            SUM(money) over (partition by st_id) money_all,\n",
    "            sumIf(money, subject = 'Math') over(partition by st_id) money_math\n",
    "          FROM\n",
    "            default.final_project_check\n",
    "        )\n",
    "    )\n",
    "    SELECT\n",
    "      s.test_grp groups,\n",
    "      ROUND(SUM(c.money_all) / count(s.st_id), 2) ARPU,\n",
    "      ROUND(sumIf(c.money_all, a.active_all = 1) / sum(a.active_all), 2) ARPAU,\n",
    "      ROUND(SUM(c.flag_all) / count(s.st_id)*100, 2) CR,\n",
    "      ROUND(sumIf(c.flag_all, a.active_all = 1) / sum(a.active_all) * 100, 2) CR_Active,\n",
    "      ROUND(sumIf(c.flag_math, a.active_math = 1) / sum(a.active_math) * 100, 2) CR_Active_Math\n",
    "    FROM\n",
    "      default.studs s\n",
    "      LEFT JOIN table_act a ON s.st_id = a.st_id\n",
    "      LEFT JOIN table_sum c ON s.st_id = c.st_id\n",
    "    GROUP BY\n",
    "      s.test_grp\"\"\""
   ]
  },
  {
   "cell_type": "code",
   "execution_count": 6,
   "metadata": {},
   "outputs": [
    {
     "name": "stdout",
     "output_type": "stream",
     "text": [
      "Информация о группах пользователей:\n"
     ]
    },
    {
     "data": {
      "text/html": [
       "<div>\n",
       "<style scoped>\n",
       "    .dataframe tbody tr th:only-of-type {\n",
       "        vertical-align: middle;\n",
       "    }\n",
       "\n",
       "    .dataframe tbody tr th {\n",
       "        vertical-align: top;\n",
       "    }\n",
       "\n",
       "    .dataframe thead th {\n",
       "        text-align: right;\n",
       "    }\n",
       "</style>\n",
       "<table border=\"1\" class=\"dataframe\">\n",
       "  <thead>\n",
       "    <tr style=\"text-align: right;\">\n",
       "      <th></th>\n",
       "      <th>groups</th>\n",
       "      <th>ARPU</th>\n",
       "      <th>ARPAU</th>\n",
       "      <th>CR</th>\n",
       "      <th>CR_Active</th>\n",
       "      <th>CR_Active_Math</th>\n",
       "    </tr>\n",
       "  </thead>\n",
       "  <tbody>\n",
       "    <tr>\n",
       "      <th>0</th>\n",
       "      <td>control</td>\n",
       "      <td>4540.98</td>\n",
       "      <td>10393.70</td>\n",
       "      <td>4.92</td>\n",
       "      <td>11.02</td>\n",
       "      <td>6.12</td>\n",
       "    </tr>\n",
       "    <tr>\n",
       "      <th>1</th>\n",
       "      <td>pilot</td>\n",
       "      <td>11508.47</td>\n",
       "      <td>29739.58</td>\n",
       "      <td>10.85</td>\n",
       "      <td>26.04</td>\n",
       "      <td>9.52</td>\n",
       "    </tr>\n",
       "  </tbody>\n",
       "</table>\n",
       "</div>"
      ],
      "text/plain": [
       "    groups      ARPU     ARPAU     CR  CR_Active  CR_Active_Math\n",
       "0  control   4540.98  10393.70   4.92      11.02            6.12\n",
       "1    pilot  11508.47  29739.58  10.85      26.04            9.52"
      ]
     },
     "execution_count": 6,
     "metadata": {},
     "output_type": "execute_result"
    }
   ],
   "source": [
    "# Выполним запрос SELECT с помощью функции read_clickhouse и сохраним результат в объект DataFrame\n",
    "df2 = ph.read_clickhouse(query2, connection=connection1)\n",
    "\n",
    "# выводим результат\n",
    "print(\"Информация о группах пользователей:\")\n",
    "\n",
    "df2"
   ]
  },
  {
   "cell_type": "code",
   "execution_count": null,
   "metadata": {},
   "outputs": [],
   "source": []
  }
 ],
 "metadata": {
  "kernelspec": {
   "display_name": "Python 3",
   "language": "python",
   "name": "python3"
  },
  "language_info": {
   "codemirror_mode": {
    "name": "ipython",
    "version": 3
   },
   "file_extension": ".py",
   "mimetype": "text/x-python",
   "name": "python",
   "nbconvert_exporter": "python",
   "pygments_lexer": "ipython3",
   "version": "3.7.3"
  }
 },
 "nbformat": 4,
 "nbformat_minor": 4
}
